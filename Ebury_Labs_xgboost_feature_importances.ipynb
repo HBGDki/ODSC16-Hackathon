{
 "cells": [
  {
   "cell_type": "code",
   "execution_count": 1,
   "metadata": {
    "collapsed": false
   },
   "outputs": [],
   "source": [
    "import matplotlib.pyplot as plt\n",
    "import matplotlib\n",
    "import numpy as np\n",
    "import pandas as pd\n",
    "%matplotlib inline\n",
    "\n",
    "# ignore pandas warnings\n",
    "import warnings\n",
    "warnings.simplefilter('ignore')\n",
    "\n",
    "import pickle\n",
    "import time\n",
    "start = time.time()"
   ]
  },
  {
   "cell_type": "code",
   "execution_count": 2,
   "metadata": {
    "collapsed": true
   },
   "outputs": [],
   "source": [
    "# load data\n",
    "data = pd.read_csv('training_ultrasound.csv')\n",
    "\n",
    "# remove agedays > 0 ( we just only focus pre-birth measurements)\n",
    "data = data[data['AGEDAYS']<0]\n",
    "\n",
    "# drop rows with missing data in any of the 5 main columns\n",
    "ultrasound = ['HCIRCM', 'ABCIRCM', 'BPDCM', 'FEMURCM']\n",
    "aux_measure = ['GAGEDAYS', 'SEXN', 'PARITY', 'GRAVIDA']\n",
    "target = 'BWT_40'\n",
    "data.dropna(subset=ultrasound+[target], inplace=True)\n",
    "\n",
    "# correct faulty data\n",
    "data.loc[data['STUDYID']==2, 'PARITY'] = data.loc[data['STUDYID']==2, 'PARITY'] + 1"
   ]
  },
  {
   "cell_type": "markdown",
   "metadata": {},
   "source": [
    "## Model"
   ]
  },
  {
   "cell_type": "code",
   "execution_count": 3,
   "metadata": {
    "collapsed": true
   },
   "outputs": [],
   "source": [
    "# select basic vars\n",
    "df = data[ultrasound + aux_measure + [target]]"
   ]
  },
  {
   "cell_type": "code",
   "execution_count": 4,
   "metadata": {
    "collapsed": false
   },
   "outputs": [
    {
     "data": {
      "text/plain": [
       "HCIRCM        0\n",
       "ABCIRCM       0\n",
       "BPDCM         0\n",
       "FEMURCM       0\n",
       "GAGEDAYS      0\n",
       "SEXN          0\n",
       "PARITY      101\n",
       "GRAVIDA     101\n",
       "BWT_40        0\n",
       "dtype: int64"
      ]
     },
     "execution_count": 4,
     "metadata": {},
     "output_type": "execute_result"
    }
   ],
   "source": [
    "df.isnull().sum()"
   ]
  },
  {
   "cell_type": "code",
   "execution_count": 5,
   "metadata": {
    "collapsed": true
   },
   "outputs": [],
   "source": [
    "# there is missing data for parity and gravida: this happens for first pregnancy --> fill with 1s\n",
    "df.fillna(1, inplace=True)\n",
    "\n",
    "# replace sex values to 0 and 1\n",
    "df['SEXN'] = df['SEXN'].replace([1,2], [0,1])"
   ]
  },
  {
   "cell_type": "markdown",
   "metadata": {},
   "source": [
    "### Feature engineering "
   ]
  },
  {
   "cell_type": "code",
   "execution_count": 6,
   "metadata": {
    "collapsed": false
   },
   "outputs": [
    {
     "data": {
      "text/plain": [
       "['HCIRCM', 'ABCIRCM', 'BPDCM', 'FEMURCM']"
      ]
     },
     "execution_count": 6,
     "metadata": {},
     "output_type": "execute_result"
    }
   ],
   "source": [
    "ultrasound"
   ]
  },
  {
   "cell_type": "raw",
   "metadata": {},
   "source": [
    "length_ratios = list()\n",
    "for m in ultrasound:\n",
    "    for n in ultrasound:\n",
    "        if m != n:\n",
    "            col_name = '%s / %s' % (m,n)\n",
    "            length_ratios.append(col_name)\n",
    "            df[col_name] = df[m] / df[n]\n",
    "\n",
    "length_ratios"
   ]
  },
  {
   "cell_type": "code",
   "execution_count": 7,
   "metadata": {
    "collapsed": false
   },
   "outputs": [],
   "source": [
    "length_ratios = ['HCIRCM / ABCIRCM', 'HCIRCM / BPDCM', 'HCIRCM / FEMURCM',\n",
    "                 'ABCIRCM / BPDCM', 'ABCIRCM / FEMURCM', \n",
    "                 'BPDCM / FEMURCM']\n",
    "for ratio in length_ratios:\n",
    "    df[ratio] = df[ratio.split(' ')[0]] / df[ratio.split(' ')[2]]"
   ]
  },
  {
   "cell_type": "code",
   "execution_count": 8,
   "metadata": {
    "collapsed": false
   },
   "outputs": [
    {
     "data": {
      "text/plain": [
       "['HCIRCM / GAGEDAYS',\n",
       " 'ABCIRCM / GAGEDAYS',\n",
       " 'BPDCM / GAGEDAYS',\n",
       " 'FEMURCM / GAGEDAYS']"
      ]
     },
     "execution_count": 8,
     "metadata": {},
     "output_type": "execute_result"
    }
   ],
   "source": [
    "lenght_time = list()\n",
    "for m in ultrasound:\n",
    "    col_name = '%s / GAGEDAYS' % m\n",
    "    lenght_time.append(col_name)\n",
    "    df[col_name] = df[m] / df['GAGEDAYS']\n",
    "\n",
    "lenght_time"
   ]
  },
  {
   "cell_type": "code",
   "execution_count": 9,
   "metadata": {
    "collapsed": true
   },
   "outputs": [],
   "source": [
    "# no of past pregancies\n",
    "df['past_gest'] = df['PARITY'] - df['GRAVIDA']\n",
    "\n",
    "other_feat = ['past_gest'] "
   ]
  },
  {
   "cell_type": "code",
   "execution_count": 10,
   "metadata": {
    "collapsed": true
   },
   "outputs": [],
   "source": [
    "# common models for sonographic fetal weight estimation use log of the weight\n",
    "df['BWT_40'] = np.log(1 + df['BWT_40'])"
   ]
  },
  {
   "cell_type": "code",
   "execution_count": 11,
   "metadata": {
    "collapsed": false
   },
   "outputs": [
    {
     "name": "stdout",
     "output_type": "stream",
     "text": [
      "Dataframe size: 7928,20\n"
     ]
    }
   ],
   "source": [
    "print('Dataframe size: %s,%s' % (df.shape[0],df.shape[1]))"
   ]
  },
  {
   "cell_type": "code",
   "execution_count": 12,
   "metadata": {
    "collapsed": true
   },
   "outputs": [],
   "source": [
    "# sklearn imports\n",
    "from sklearn.model_selection import train_test_split, KFold, cross_val_score\n",
    "from sklearn.preprocessing import StandardScaler, PolynomialFeatures\n",
    "from sklearn.metrics import mean_absolute_error\n",
    "\n",
    "# xgboost\n",
    "from xgboost import XGBRegressor\n",
    "\n",
    "# custom 'library'\n",
    "from aux_fun import plot_learning_curve, plot_validation_curve"
   ]
  },
  {
   "cell_type": "markdown",
   "metadata": {},
   "source": [
    "### Split train/test data"
   ]
  },
  {
   "cell_type": "code",
   "execution_count": 13,
   "metadata": {
    "collapsed": true
   },
   "outputs": [],
   "source": [
    "pf = PolynomialFeatures(degree=4)\n",
    "X_poly_ultrasounds = pf.fit_transform(df[ultrasound].values)\n",
    "X_aux_measure = df[aux_measure].values\n",
    "X_lenght_ratios = df[length_ratios].values\n",
    "X_lenght_time = df[lenght_time].values\n",
    "X_other_feat = df[other_feat].values\n",
    "\n",
    "X = np.concatenate((X_poly_ultrasounds,X_aux_measure,X_lenght_ratios,X_lenght_time,X_other_feat),axis=1)\n",
    "\n",
    "Y = df[target].values"
   ]
  },
  {
   "cell_type": "code",
   "execution_count": 14,
   "metadata": {
    "collapsed": false
   },
   "outputs": [],
   "source": [
    "poly_feat_names = [e.replace('x0','HCIRCM').replace('x1','ABCIRCM').replace('x2','BPDCM').replace('x3','FEMURCM')\n",
    "              for e in pf.get_feature_names()]"
   ]
  },
  {
   "cell_type": "code",
   "execution_count": 15,
   "metadata": {
    "collapsed": false
   },
   "outputs": [],
   "source": [
    "all_feat_names = pd.Series(poly_feat_names + aux_measure + length_ratios + lenght_time + other_feat)"
   ]
  },
  {
   "cell_type": "code",
   "execution_count": 16,
   "metadata": {
    "collapsed": true
   },
   "outputs": [],
   "source": [
    "# train-test split\n",
    "x_train, x_test, y_train, y_test = train_test_split(X, Y, test_size=0.2, random_state=0)"
   ]
  },
  {
   "cell_type": "markdown",
   "metadata": {},
   "source": [
    "### Define model pipeline"
   ]
  },
  {
   "cell_type": "code",
   "execution_count": 17,
   "metadata": {
    "collapsed": true
   },
   "outputs": [],
   "source": [
    "xgb = XGBRegressor(max_depth=10,learning_rate=0.1,n_estimators=100,subsample=0.9)"
   ]
  },
  {
   "cell_type": "markdown",
   "metadata": {},
   "source": [
    "CV using all features:"
   ]
  },
  {
   "cell_type": "code",
   "execution_count": 18,
   "metadata": {
    "collapsed": true
   },
   "outputs": [],
   "source": [
    "kf = KFold(n_splits=5)"
   ]
  },
  {
   "cell_type": "code",
   "execution_count": 19,
   "metadata": {
    "collapsed": false
   },
   "outputs": [
    {
     "name": "stdout",
     "output_type": "stream",
     "text": [
      "Score: 0.0527 +- 0.0027\n"
     ]
    }
   ],
   "source": [
    "mae = list()\n",
    "\n",
    "for train_k, test_k in kf.split(x_train):\n",
    "    xgb.fit(x_train[train_k],y_train[train_k])\n",
    "    mae.append(mean_absolute_error(y_train[test_k], xgb.predict(x_train[test_k])))\n",
    "    \n",
    "base_cv_mae = np.mean(mae)\n",
    "\n",
    "print('Score: %0.4f +- %0.4f' % (np.mean(mae),2*np.std(mae)))"
   ]
  },
  {
   "cell_type": "markdown",
   "metadata": {},
   "source": [
    "Iterate through all features, calculating the mean absolute error of the model when leaving that one feature out:"
   ]
  },
  {
   "cell_type": "code",
   "execution_count": 20,
   "metadata": {
    "collapsed": false
   },
   "outputs": [
    {
     "name": "stdout",
     "output_type": "stream",
     "text": [
      "step 10 done\n",
      "step 20 done\n",
      "step 30 done\n",
      "step 40 done\n",
      "step 50 done\n",
      "step 60 done\n",
      "step 70 done\n",
      "step 80 done\n",
      "All done!\n"
     ]
    }
   ],
   "source": [
    "mae_after_deleting = list()\n",
    "for ix, feat in all_feat_names.iteritems():\n",
    "    mae_i = cross_val_score(xgb, X=np.delete(x_train,[ix],axis=1), y=y_train, scoring='mean_absolute_error', cv=kf, n_jobs=-1)\n",
    "    mae_after_deleting.append(mae_i)\n",
    "    if (ix + 1) % 10 == 0:\n",
    "        print('step %i done' % (ix + 1))\n",
    "print('All done!')"
   ]
  },
  {
   "cell_type": "markdown",
   "metadata": {},
   "source": [
    "Order features (features with POSITIVE error increments are more important, i.e., excluding them from the model decreases performance):"
   ]
  },
  {
   "cell_type": "code",
   "execution_count": 21,
   "metadata": {
    "collapsed": false
   },
   "outputs": [],
   "source": [
    "feature_deltas = [np.abs(mae.mean()) - base_cv_mae for mae in mae_after_deleting]\n",
    "\n",
    "sorted_feat_importances = \\\n",
    "pd.DataFrame({'names': all_feat_names, 'deltas': feature_deltas})[['names','deltas']].sort_values(by='deltas', ascending=False)"
   ]
  },
  {
   "cell_type": "code",
   "execution_count": 22,
   "metadata": {
    "collapsed": false
   },
   "outputs": [
    {
     "data": {
      "text/html": [
       "<div>\n",
       "<table border=\"1\" class=\"dataframe\">\n",
       "  <thead>\n",
       "    <tr style=\"text-align: right;\">\n",
       "      <th></th>\n",
       "      <th>names</th>\n",
       "      <th>deltas</th>\n",
       "    </tr>\n",
       "  </thead>\n",
       "  <tbody>\n",
       "    <tr>\n",
       "      <th>71</th>\n",
       "      <td>SEXN</td>\n",
       "      <td>0.000589</td>\n",
       "    </tr>\n",
       "    <tr>\n",
       "      <th>73</th>\n",
       "      <td>GRAVIDA</td>\n",
       "      <td>0.000030</td>\n",
       "    </tr>\n",
       "    <tr>\n",
       "      <th>76</th>\n",
       "      <td>HCIRCM / FEMURCM</td>\n",
       "      <td>-0.000065</td>\n",
       "    </tr>\n",
       "    <tr>\n",
       "      <th>41</th>\n",
       "      <td>HCIRCM^2 ABCIRCM FEMURCM</td>\n",
       "      <td>-0.000145</td>\n",
       "    </tr>\n",
       "    <tr>\n",
       "      <th>48</th>\n",
       "      <td>HCIRCM ABCIRCM BPDCM^2</td>\n",
       "      <td>-0.000149</td>\n",
       "    </tr>\n",
       "    <tr>\n",
       "      <th>7</th>\n",
       "      <td>HCIRCM BPDCM</td>\n",
       "      <td>-0.000153</td>\n",
       "    </tr>\n",
       "    <tr>\n",
       "      <th>80</th>\n",
       "      <td>HCIRCM / GAGEDAYS</td>\n",
       "      <td>-0.000160</td>\n",
       "    </tr>\n",
       "    <tr>\n",
       "      <th>57</th>\n",
       "      <td>ABCIRCM^3 FEMURCM</td>\n",
       "      <td>-0.000181</td>\n",
       "    </tr>\n",
       "    <tr>\n",
       "      <th>63</th>\n",
       "      <td>ABCIRCM BPDCM FEMURCM^2</td>\n",
       "      <td>-0.000185</td>\n",
       "    </tr>\n",
       "    <tr>\n",
       "      <th>4</th>\n",
       "      <td>FEMURCM</td>\n",
       "      <td>-0.000188</td>\n",
       "    </tr>\n",
       "    <tr>\n",
       "      <th>77</th>\n",
       "      <td>ABCIRCM / BPDCM</td>\n",
       "      <td>-0.000201</td>\n",
       "    </tr>\n",
       "    <tr>\n",
       "      <th>10</th>\n",
       "      <td>ABCIRCM BPDCM</td>\n",
       "      <td>-0.000211</td>\n",
       "    </tr>\n",
       "    <tr>\n",
       "      <th>6</th>\n",
       "      <td>HCIRCM ABCIRCM</td>\n",
       "      <td>-0.000224</td>\n",
       "    </tr>\n",
       "    <tr>\n",
       "      <th>72</th>\n",
       "      <td>PARITY</td>\n",
       "      <td>-0.000228</td>\n",
       "    </tr>\n",
       "    <tr>\n",
       "      <th>11</th>\n",
       "      <td>ABCIRCM FEMURCM</td>\n",
       "      <td>-0.000235</td>\n",
       "    </tr>\n",
       "    <tr>\n",
       "      <th>3</th>\n",
       "      <td>BPDCM</td>\n",
       "      <td>-0.000239</td>\n",
       "    </tr>\n",
       "    <tr>\n",
       "      <th>29</th>\n",
       "      <td>ABCIRCM BPDCM FEMURCM</td>\n",
       "      <td>-0.000243</td>\n",
       "    </tr>\n",
       "    <tr>\n",
       "      <th>62</th>\n",
       "      <td>ABCIRCM BPDCM^2 FEMURCM</td>\n",
       "      <td>-0.000243</td>\n",
       "    </tr>\n",
       "    <tr>\n",
       "      <th>38</th>\n",
       "      <td>HCIRCM^3 FEMURCM</td>\n",
       "      <td>-0.000247</td>\n",
       "    </tr>\n",
       "    <tr>\n",
       "      <th>52</th>\n",
       "      <td>HCIRCM BPDCM^2 FEMURCM</td>\n",
       "      <td>-0.000252</td>\n",
       "    </tr>\n",
       "    <tr>\n",
       "      <th>75</th>\n",
       "      <td>HCIRCM / BPDCM</td>\n",
       "      <td>-0.000253</td>\n",
       "    </tr>\n",
       "    <tr>\n",
       "      <th>50</th>\n",
       "      <td>HCIRCM ABCIRCM FEMURCM^2</td>\n",
       "      <td>-0.000262</td>\n",
       "    </tr>\n",
       "    <tr>\n",
       "      <th>53</th>\n",
       "      <td>HCIRCM BPDCM FEMURCM^2</td>\n",
       "      <td>-0.000262</td>\n",
       "    </tr>\n",
       "    <tr>\n",
       "      <th>64</th>\n",
       "      <td>ABCIRCM FEMURCM^3</td>\n",
       "      <td>-0.000304</td>\n",
       "    </tr>\n",
       "    <tr>\n",
       "      <th>13</th>\n",
       "      <td>BPDCM FEMURCM</td>\n",
       "      <td>-0.000306</td>\n",
       "    </tr>\n",
       "    <tr>\n",
       "      <th>16</th>\n",
       "      <td>HCIRCM^2 ABCIRCM</td>\n",
       "      <td>-0.000310</td>\n",
       "    </tr>\n",
       "    <tr>\n",
       "      <th>23</th>\n",
       "      <td>HCIRCM BPDCM FEMURCM</td>\n",
       "      <td>-0.000312</td>\n",
       "    </tr>\n",
       "    <tr>\n",
       "      <th>36</th>\n",
       "      <td>HCIRCM^3 ABCIRCM</td>\n",
       "      <td>-0.000312</td>\n",
       "    </tr>\n",
       "    <tr>\n",
       "      <th>74</th>\n",
       "      <td>HCIRCM / ABCIRCM</td>\n",
       "      <td>-0.000314</td>\n",
       "    </tr>\n",
       "    <tr>\n",
       "      <th>43</th>\n",
       "      <td>HCIRCM^2 BPDCM FEMURCM</td>\n",
       "      <td>-0.000333</td>\n",
       "    </tr>\n",
       "    <tr>\n",
       "      <th>...</th>\n",
       "      <td>...</td>\n",
       "      <td>...</td>\n",
       "    </tr>\n",
       "    <tr>\n",
       "      <th>69</th>\n",
       "      <td>FEMURCM^4</td>\n",
       "      <td>-0.000441</td>\n",
       "    </tr>\n",
       "    <tr>\n",
       "      <th>58</th>\n",
       "      <td>ABCIRCM^2 BPDCM^2</td>\n",
       "      <td>-0.000441</td>\n",
       "    </tr>\n",
       "    <tr>\n",
       "      <th>42</th>\n",
       "      <td>HCIRCM^2 BPDCM^2</td>\n",
       "      <td>-0.000441</td>\n",
       "    </tr>\n",
       "    <tr>\n",
       "      <th>25</th>\n",
       "      <td>ABCIRCM^3</td>\n",
       "      <td>-0.000441</td>\n",
       "    </tr>\n",
       "    <tr>\n",
       "      <th>55</th>\n",
       "      <td>ABCIRCM^4</td>\n",
       "      <td>-0.000441</td>\n",
       "    </tr>\n",
       "    <tr>\n",
       "      <th>44</th>\n",
       "      <td>HCIRCM^2 FEMURCM^2</td>\n",
       "      <td>-0.000441</td>\n",
       "    </tr>\n",
       "    <tr>\n",
       "      <th>39</th>\n",
       "      <td>HCIRCM^2 ABCIRCM^2</td>\n",
       "      <td>-0.000441</td>\n",
       "    </tr>\n",
       "    <tr>\n",
       "      <th>35</th>\n",
       "      <td>HCIRCM^4</td>\n",
       "      <td>-0.000441</td>\n",
       "    </tr>\n",
       "    <tr>\n",
       "      <th>34</th>\n",
       "      <td>FEMURCM^3</td>\n",
       "      <td>-0.000441</td>\n",
       "    </tr>\n",
       "    <tr>\n",
       "      <th>9</th>\n",
       "      <td>ABCIRCM^2</td>\n",
       "      <td>-0.000441</td>\n",
       "    </tr>\n",
       "    <tr>\n",
       "      <th>31</th>\n",
       "      <td>BPDCM^3</td>\n",
       "      <td>-0.000441</td>\n",
       "    </tr>\n",
       "    <tr>\n",
       "      <th>12</th>\n",
       "      <td>BPDCM^2</td>\n",
       "      <td>-0.000441</td>\n",
       "    </tr>\n",
       "    <tr>\n",
       "      <th>14</th>\n",
       "      <td>FEMURCM^2</td>\n",
       "      <td>-0.000441</td>\n",
       "    </tr>\n",
       "    <tr>\n",
       "      <th>5</th>\n",
       "      <td>HCIRCM^2</td>\n",
       "      <td>-0.000441</td>\n",
       "    </tr>\n",
       "    <tr>\n",
       "      <th>15</th>\n",
       "      <td>HCIRCM^3</td>\n",
       "      <td>-0.000441</td>\n",
       "    </tr>\n",
       "    <tr>\n",
       "      <th>46</th>\n",
       "      <td>HCIRCM ABCIRCM^2 BPDCM</td>\n",
       "      <td>-0.000460</td>\n",
       "    </tr>\n",
       "    <tr>\n",
       "      <th>56</th>\n",
       "      <td>ABCIRCM^3 BPDCM</td>\n",
       "      <td>-0.000465</td>\n",
       "    </tr>\n",
       "    <tr>\n",
       "      <th>79</th>\n",
       "      <td>BPDCM / FEMURCM</td>\n",
       "      <td>-0.000474</td>\n",
       "    </tr>\n",
       "    <tr>\n",
       "      <th>83</th>\n",
       "      <td>FEMURCM / GAGEDAYS</td>\n",
       "      <td>-0.000476</td>\n",
       "    </tr>\n",
       "    <tr>\n",
       "      <th>32</th>\n",
       "      <td>BPDCM^2 FEMURCM</td>\n",
       "      <td>-0.000490</td>\n",
       "    </tr>\n",
       "    <tr>\n",
       "      <th>18</th>\n",
       "      <td>HCIRCM^2 FEMURCM</td>\n",
       "      <td>-0.000493</td>\n",
       "    </tr>\n",
       "    <tr>\n",
       "      <th>28</th>\n",
       "      <td>ABCIRCM BPDCM^2</td>\n",
       "      <td>-0.000505</td>\n",
       "    </tr>\n",
       "    <tr>\n",
       "      <th>20</th>\n",
       "      <td>HCIRCM ABCIRCM BPDCM</td>\n",
       "      <td>-0.000518</td>\n",
       "    </tr>\n",
       "    <tr>\n",
       "      <th>19</th>\n",
       "      <td>HCIRCM ABCIRCM^2</td>\n",
       "      <td>-0.000533</td>\n",
       "    </tr>\n",
       "    <tr>\n",
       "      <th>68</th>\n",
       "      <td>BPDCM FEMURCM^3</td>\n",
       "      <td>-0.000544</td>\n",
       "    </tr>\n",
       "    <tr>\n",
       "      <th>21</th>\n",
       "      <td>HCIRCM ABCIRCM FEMURCM</td>\n",
       "      <td>-0.000563</td>\n",
       "    </tr>\n",
       "    <tr>\n",
       "      <th>84</th>\n",
       "      <td>past_gest</td>\n",
       "      <td>-0.000588</td>\n",
       "    </tr>\n",
       "    <tr>\n",
       "      <th>24</th>\n",
       "      <td>HCIRCM FEMURCM^2</td>\n",
       "      <td>-0.000607</td>\n",
       "    </tr>\n",
       "    <tr>\n",
       "      <th>82</th>\n",
       "      <td>BPDCM / GAGEDAYS</td>\n",
       "      <td>-0.000611</td>\n",
       "    </tr>\n",
       "    <tr>\n",
       "      <th>81</th>\n",
       "      <td>ABCIRCM / GAGEDAYS</td>\n",
       "      <td>-0.000852</td>\n",
       "    </tr>\n",
       "  </tbody>\n",
       "</table>\n",
       "<p>85 rows × 2 columns</p>\n",
       "</div>"
      ],
      "text/plain": [
       "                       names    deltas\n",
       "71                      SEXN  0.000589\n",
       "73                   GRAVIDA  0.000030\n",
       "76          HCIRCM / FEMURCM -0.000065\n",
       "41  HCIRCM^2 ABCIRCM FEMURCM -0.000145\n",
       "48    HCIRCM ABCIRCM BPDCM^2 -0.000149\n",
       "7               HCIRCM BPDCM -0.000153\n",
       "80         HCIRCM / GAGEDAYS -0.000160\n",
       "57         ABCIRCM^3 FEMURCM -0.000181\n",
       "63   ABCIRCM BPDCM FEMURCM^2 -0.000185\n",
       "4                    FEMURCM -0.000188\n",
       "77           ABCIRCM / BPDCM -0.000201\n",
       "10             ABCIRCM BPDCM -0.000211\n",
       "6             HCIRCM ABCIRCM -0.000224\n",
       "72                    PARITY -0.000228\n",
       "11           ABCIRCM FEMURCM -0.000235\n",
       "3                      BPDCM -0.000239\n",
       "29     ABCIRCM BPDCM FEMURCM -0.000243\n",
       "62   ABCIRCM BPDCM^2 FEMURCM -0.000243\n",
       "38          HCIRCM^3 FEMURCM -0.000247\n",
       "52    HCIRCM BPDCM^2 FEMURCM -0.000252\n",
       "75            HCIRCM / BPDCM -0.000253\n",
       "50  HCIRCM ABCIRCM FEMURCM^2 -0.000262\n",
       "53    HCIRCM BPDCM FEMURCM^2 -0.000262\n",
       "64         ABCIRCM FEMURCM^3 -0.000304\n",
       "13             BPDCM FEMURCM -0.000306\n",
       "16          HCIRCM^2 ABCIRCM -0.000310\n",
       "23      HCIRCM BPDCM FEMURCM -0.000312\n",
       "36          HCIRCM^3 ABCIRCM -0.000312\n",
       "74          HCIRCM / ABCIRCM -0.000314\n",
       "43    HCIRCM^2 BPDCM FEMURCM -0.000333\n",
       "..                       ...       ...\n",
       "69                 FEMURCM^4 -0.000441\n",
       "58         ABCIRCM^2 BPDCM^2 -0.000441\n",
       "42          HCIRCM^2 BPDCM^2 -0.000441\n",
       "25                 ABCIRCM^3 -0.000441\n",
       "55                 ABCIRCM^4 -0.000441\n",
       "44        HCIRCM^2 FEMURCM^2 -0.000441\n",
       "39        HCIRCM^2 ABCIRCM^2 -0.000441\n",
       "35                  HCIRCM^4 -0.000441\n",
       "34                 FEMURCM^3 -0.000441\n",
       "9                  ABCIRCM^2 -0.000441\n",
       "31                   BPDCM^3 -0.000441\n",
       "12                   BPDCM^2 -0.000441\n",
       "14                 FEMURCM^2 -0.000441\n",
       "5                   HCIRCM^2 -0.000441\n",
       "15                  HCIRCM^3 -0.000441\n",
       "46    HCIRCM ABCIRCM^2 BPDCM -0.000460\n",
       "56           ABCIRCM^3 BPDCM -0.000465\n",
       "79           BPDCM / FEMURCM -0.000474\n",
       "83        FEMURCM / GAGEDAYS -0.000476\n",
       "32           BPDCM^2 FEMURCM -0.000490\n",
       "18          HCIRCM^2 FEMURCM -0.000493\n",
       "28           ABCIRCM BPDCM^2 -0.000505\n",
       "20      HCIRCM ABCIRCM BPDCM -0.000518\n",
       "19          HCIRCM ABCIRCM^2 -0.000533\n",
       "68           BPDCM FEMURCM^3 -0.000544\n",
       "21    HCIRCM ABCIRCM FEMURCM -0.000563\n",
       "84                 past_gest -0.000588\n",
       "24          HCIRCM FEMURCM^2 -0.000607\n",
       "82          BPDCM / GAGEDAYS -0.000611\n",
       "81        ABCIRCM / GAGEDAYS -0.000852\n",
       "\n",
       "[85 rows x 2 columns]"
      ]
     },
     "execution_count": 22,
     "metadata": {},
     "output_type": "execute_result"
    }
   ],
   "source": [
    "sorted_feat_importances.to_excel('feature_importances.xlsx')\n",
    "sorted_feat_importances"
   ]
  },
  {
   "cell_type": "code",
   "execution_count": 23,
   "metadata": {
    "collapsed": true
   },
   "outputs": [],
   "source": [
    "model_objects = {'train': (x_train,y_train), 'test': (x_test,y_test)}\n",
    "with open('data_train_test.p', 'wb') as handle:\n",
    "    pickle.dump(model_objects, handle)"
   ]
  },
  {
   "cell_type": "code",
   "execution_count": 24,
   "metadata": {
    "collapsed": false
   },
   "outputs": [
    {
     "data": {
      "text/plain": [
       "528.7203924655914"
      ]
     },
     "execution_count": 24,
     "metadata": {},
     "output_type": "execute_result"
    }
   ],
   "source": [
    "time.time() - start"
   ]
  }
 ],
 "metadata": {
  "anaconda-cloud": {},
  "kernelspec": {
   "display_name": "Python [default]",
   "language": "python",
   "name": "python3"
  },
  "language_info": {
   "codemirror_mode": {
    "name": "ipython",
    "version": 3
   },
   "file_extension": ".py",
   "mimetype": "text/x-python",
   "name": "python",
   "nbconvert_exporter": "python",
   "pygments_lexer": "ipython3",
   "version": "3.5.2"
  }
 },
 "nbformat": 4,
 "nbformat_minor": 0
}
