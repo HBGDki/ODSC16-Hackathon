{
 "cells": [
  {
   "cell_type": "code",
   "execution_count": 1,
   "metadata": {
    "collapsed": false
   },
   "outputs": [],
   "source": [
    "import matplotlib.pyplot as plt\n",
    "import matplotlib\n",
    "import numpy as np\n",
    "import pandas as pd\n",
    "%matplotlib inline\n",
    "\n",
    "# ignore pandas warnings\n",
    "import warnings\n",
    "warnings.simplefilter('ignore')\n",
    "\n",
    "import pickle\n",
    "import time\n",
    "start = time.time()"
   ]
  },
  {
   "cell_type": "code",
   "execution_count": 2,
   "metadata": {
    "collapsed": false
   },
   "outputs": [],
   "source": [
    "# sklearn imports\n",
    "from sklearn.model_selection import KFold, cross_val_score\n",
    "from sklearn.metrics import mean_absolute_error\n",
    "\n",
    "# xgboost\n",
    "from xgboost import XGBRegressor\n",
    "\n",
    "# custom 'library'\n",
    "from aux_fun import plot_learning_curve, plot_validation_curve"
   ]
  },
  {
   "cell_type": "markdown",
   "metadata": {},
   "source": [
    "Retrieve data from the previous stage:"
   ]
  },
  {
   "cell_type": "code",
   "execution_count": 3,
   "metadata": {
    "collapsed": false
   },
   "outputs": [],
   "source": [
    "with open('data_train_test.p', 'rb') as handle:\n",
    "    data_train_test = pickle.load(handle)\n",
    "    \n",
    "x_train, y_train = data_train_test['train']\n",
    "x_test, y_test = data_train_test['test']\n",
    "\n",
    "sorted_feat_importances = pd.read_excel('feature_importances.xlsx')"
   ]
  },
  {
   "cell_type": "markdown",
   "metadata": {},
   "source": [
    "Redefine model:"
   ]
  },
  {
   "cell_type": "code",
   "execution_count": 4,
   "metadata": {
    "collapsed": false
   },
   "outputs": [],
   "source": [
    "kf = KFold(n_splits=5)\n",
    "xgb = XGBRegressor(max_depth=20,learning_rate=0.1,n_estimators=100,subsample=0.9)"
   ]
  },
  {
   "cell_type": "markdown",
   "metadata": {},
   "source": [
    "Cross validate to get optimal number of features:"
   ]
  },
  {
   "cell_type": "code",
   "execution_count": 5,
   "metadata": {
    "collapsed": false
   },
   "outputs": [
    {
     "name": "stdout",
     "output_type": "stream",
     "text": [
      "Step 1 done (2.43 s)\n",
      "Step 2 done (2.50 s)\n",
      "Step 3 done (3.01 s)\n",
      "Step 4 done (2.99 s)\n",
      "Step 5 done (3.08 s)\n",
      "Step 6 done (3.34 s)\n",
      "Step 7 done (3.45 s)\n",
      "Step 8 done (3.53 s)\n",
      "Step 9 done (3.72 s)\n",
      "Step 10 done (3.80 s)\n",
      "Step 11 done (3.99 s)\n",
      "Step 12 done (3.96 s)\n",
      "Step 13 done (4.13 s)\n",
      "Step 14 done (4.22 s)\n",
      "Step 15 done (4.32 s)\n",
      "Step 16 done (4.43 s)\n",
      "Step 17 done (4.41 s)\n",
      "Step 18 done (4.54 s)\n",
      "Step 19 done (4.77 s)\n",
      "Step 20 done (5.00 s)\n",
      "Step 21 done (4.98 s)\n",
      "Step 22 done (5.35 s)\n",
      "Step 23 done (5.33 s)\n",
      "Step 24 done (5.31 s)\n",
      "Step 25 done (5.41 s)\n",
      "Step 26 done (5.53 s)\n",
      "Step 27 done (5.52 s)\n",
      "Step 28 done (5.62 s)\n",
      "Step 29 done (5.69 s)\n",
      "Step 30 done (5.90 s)\n",
      "Step 31 done (5.99 s)\n",
      "Step 32 done (5.96 s)\n",
      "Step 33 done (6.19 s)\n",
      "Step 34 done (6.31 s)\n",
      "Step 35 done (6.32 s)\n",
      "Step 36 done (6.39 s)\n",
      "Step 37 done (6.59 s)\n",
      "Step 38 done (6.77 s)\n",
      "Step 39 done (6.83 s)\n"
     ]
    }
   ],
   "source": [
    "mae_cv_path = list()\n",
    "mae_std_cv_path = list()\n",
    "n_path = np.arange(1,40).tolist()\n",
    "for n in n_path:\n",
    "    start_iter = time.time()\n",
    "    subset = sorted_feat_importances.iloc[:n].index.tolist()\n",
    "    mae = np.abs(cross_val_score(xgb, X=x_train[:,subset], y=y_train, scoring='mean_absolute_error', cv=kf, n_jobs=-1))\n",
    "    mae_cv_path.append(mae.mean())\n",
    "    mae_std_cv_path.append(mae.std())\n",
    "    print('Step %i done (%0.2f s)' % (n,time.time() - start_iter))"
   ]
  },
  {
   "cell_type": "code",
   "execution_count": 6,
   "metadata": {
    "collapsed": false
   },
   "outputs": [
    {
     "data": {
      "image/png": "[encoded data removed]",
      "text/plain": [
       "<matplotlib.figure.Figure at 0x2348b375cf8>"
      ]
     },
     "metadata": {},
     "output_type": "display_data"
    }
   ],
   "source": [
    "plt.plot(n_path,mae_cv_path)\n",
    "plt.ylabel('Mean Absolute Error')\n",
    "plt.xlabel('number of top features selected');"
   ]
  },
  {
   "cell_type": "code",
   "execution_count": 7,
   "metadata": {
    "collapsed": false,
    "scrolled": true
   },
   "outputs": [
    {
     "name": "stdout",
     "output_type": "stream",
     "text": [
      "Optimal n features: 30 (MAE = 0.05106)\n"
     ]
    }
   ],
   "source": [
    "min_mae = np.inf\n",
    "n_min_mae = None\n",
    "for (mae,n) in zip(mae_cv_path,n_path):\n",
    "    if mae < min_mae:\n",
    "        min_mae = mae\n",
    "        n_min_mae = n\n",
    "        \n",
    "print('Optimal n features: %i (MAE = %0.5f)' % (n_min_mae, min_mae))"
   ]
  },
  {
   "cell_type": "code",
   "execution_count": 8,
   "metadata": {
    "collapsed": false
   },
   "outputs": [],
   "source": [
    "select_top = n_min_mae\n",
    "most_important_feat_indices = sorted_feat_importances.iloc[:select_top].index.tolist()"
   ]
  },
  {
   "cell_type": "code",
   "execution_count": 9,
   "metadata": {
    "collapsed": false
   },
   "outputs": [],
   "source": [
    "x_train_reduced = x_train[:,most_important_feat_indices]\n",
    "x_test_reduced = x_test[:,most_important_feat_indices]"
   ]
  },
  {
   "cell_type": "markdown",
   "metadata": {},
   "source": [
    "Fit whole train set with best hyperparameter"
   ]
  },
  {
   "cell_type": "code",
   "execution_count": 10,
   "metadata": {
    "collapsed": false
   },
   "outputs": [
    {
     "data": {
      "text/plain": [
       "XGBRegressor(base_score=0.5, colsample_bylevel=1, colsample_bytree=1, gamma=0,\n",
       "       learning_rate=0.1, max_delta_step=0, max_depth=20,\n",
       "       min_child_weight=1, missing=None, n_estimators=100, nthread=-1,\n",
       "       objective='reg:linear', reg_alpha=0, reg_lambda=1,\n",
       "       scale_pos_weight=1, seed=0, silent=True, subsample=0.9)"
      ]
     },
     "execution_count": 10,
     "metadata": {},
     "output_type": "execute_result"
    }
   ],
   "source": [
    "xgb.fit(x_train_reduced,y_train)"
   ]
  },
  {
   "cell_type": "code",
   "execution_count": 11,
   "metadata": {
    "collapsed": false
   },
   "outputs": [
    {
     "name": "stdout",
     "output_type": "stream",
     "text": [
      "Test mean abs error:  0.0487906130947\n"
     ]
    }
   ],
   "source": [
    "print('Test mean abs error: ', mean_absolute_error(y_test, xgb.predict(x_test_reduced)))"
   ]
  },
  {
   "cell_type": "markdown",
   "metadata": {},
   "source": [
    "## Model assessment"
   ]
  },
  {
   "cell_type": "code",
   "execution_count": 12,
   "metadata": {
    "collapsed": false
   },
   "outputs": [
    {
     "name": "stdout",
     "output_type": "stream",
     "text": [
      "Mean absolute error: 0.2078\n",
      "Mean relative error: 0.0639\n"
     ]
    }
   ],
   "source": [
    "# Compute true errors\n",
    "w_true = np.exp(y_test) - 1\n",
    "w_pred = np.exp(xgb.predict(x_test_reduced)) - 1\n",
    "abs_error = np.absolute(w_true - w_pred)\n",
    "mean_abs_error = abs_error.mean()\n",
    "pct_error = abs_error / w_true\n",
    "\n",
    "# true test set errors\n",
    "print('Mean absolute error: %0.4f' % mean_abs_error)\n",
    "print('Mean relative error: %0.4f' % pct_error.mean())"
   ]
  },
  {
   "cell_type": "code",
   "execution_count": 13,
   "metadata": {
    "collapsed": false
   },
   "outputs": [
    {
     "data": {
      "text/plain": [
       "189.68222618103027"
      ]
     },
     "execution_count": 13,
     "metadata": {},
     "output_type": "execute_result"
    }
   ],
   "source": [
    "time.time() - start"
   ]
  }
 ],
 "metadata": {
  "anaconda-cloud": {},
  "kernelspec": {
   "display_name": "Python [default]",
   "language": "python",
   "name": "python3"
  },
  "language_info": {
   "codemirror_mode": {
    "name": "ipython",
    "version": 3
   },
   "file_extension": ".py",
   "mimetype": "text/x-python",
   "name": "python",
   "nbconvert_exporter": "python",
   "pygments_lexer": "ipython3",
   "version": "3.5.2"
  }
 },
 "nbformat": 4,
 "nbformat_minor": 0
}
