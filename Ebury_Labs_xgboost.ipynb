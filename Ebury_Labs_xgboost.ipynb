{
 "cells": [
  {
   "cell_type": "code",
   "execution_count": 1,
   "metadata": {
    "collapsed": false
   },
   "outputs": [],
   "source": [
    "import matplotlib.pyplot as plt\n",
    "import matplotlib\n",
    "import numpy as np\n",
    "import pandas as pd\n",
    "%matplotlib inline\n",
    "#matplotlib.rcParams['figure.figsize'] = (6, 4)\n",
    "import seaborn as sns\n",
    "\n",
    "# ignore pandas warnings\n",
    "import warnings\n",
    "warnings.simplefilter('ignore')\n",
    "\n",
    "import time\n",
    "start = time.time()"
   ]
  },
  {
   "cell_type": "code",
   "execution_count": 2,
   "metadata": {
    "collapsed": true
   },
   "outputs": [],
   "source": [
    "# load data\n",
    "data = pd.read_csv('training_ultrasound.csv')\n",
    "\n",
    "# remove agedays > 0 ( we just only focus pre-birth measurements)\n",
    "data = data[data['AGEDAYS']<0]\n",
    "\n",
    "# drop rows with missing data in any of the 5 main columns\n",
    "ultrasound = ['HCIRCM', 'ABCIRCM', 'BPDCM', 'FEMURCM']\n",
    "aux_measure = ['GAGEDAYS', 'SEXN', 'PARITY', 'GRAVIDA']\n",
    "target = 'BWT_40'\n",
    "data.dropna(subset=ultrasound+[target], inplace=True)\n",
    "\n",
    "# correct faulty data\n",
    "data.loc[data['STUDYID']==2, 'PARITY'] = data.loc[data['STUDYID']==2, 'PARITY'] + 1"
   ]
  },
  {
   "cell_type": "markdown",
   "metadata": {},
   "source": [
    "## Model"
   ]
  },
  {
   "cell_type": "code",
   "execution_count": 3,
   "metadata": {
    "collapsed": true
   },
   "outputs": [],
   "source": [
    "# select basic vars\n",
    "df = data[ultrasound + aux_measure + [target]]"
   ]
  },
  {
   "cell_type": "code",
   "execution_count": 4,
   "metadata": {
    "collapsed": false
   },
   "outputs": [
    {
     "data": {
      "text/plain": [
       "HCIRCM        0\n",
       "ABCIRCM       0\n",
       "BPDCM         0\n",
       "FEMURCM       0\n",
       "GAGEDAYS      0\n",
       "SEXN          0\n",
       "PARITY      101\n",
       "GRAVIDA     101\n",
       "BWT_40        0\n",
       "dtype: int64"
      ]
     },
     "execution_count": 4,
     "metadata": {},
     "output_type": "execute_result"
    }
   ],
   "source": [
    "df.isnull().sum()"
   ]
  },
  {
   "cell_type": "code",
   "execution_count": 5,
   "metadata": {
    "collapsed": true
   },
   "outputs": [],
   "source": [
    "# there is missing data for parity and gravida: this happens for first pregnancy --> fill with 1s\n",
    "df.fillna(1, inplace=True)\n",
    "\n",
    "# replace sex values to 0 and 1\n",
    "df['SEXN'] = df['SEXN'].replace([1,2], [0,1])"
   ]
  },
  {
   "cell_type": "markdown",
   "metadata": {},
   "source": [
    "### Feature engineering "
   ]
  },
  {
   "cell_type": "code",
   "execution_count": 6,
   "metadata": {
    "collapsed": false
   },
   "outputs": [
    {
     "data": {
      "text/plain": [
       "['HCIRCM', 'ABCIRCM', 'BPDCM', 'FEMURCM']"
      ]
     },
     "execution_count": 6,
     "metadata": {},
     "output_type": "execute_result"
    }
   ],
   "source": [
    "ultrasound"
   ]
  },
  {
   "cell_type": "raw",
   "metadata": {},
   "source": [
    "length_ratios = list()\n",
    "for m in ultrasound:\n",
    "    for n in ultrasound:\n",
    "        if m != n:\n",
    "            col_name = '%s / %s' % (m,n)\n",
    "            length_ratios.append(col_name)\n",
    "            df[col_name] = df[m] / df[n]\n",
    "\n",
    "length_ratios"
   ]
  },
  {
   "cell_type": "code",
   "execution_count": 7,
   "metadata": {
    "collapsed": false
   },
   "outputs": [],
   "source": [
    "length_ratios = ['HCIRCM / ABCIRCM', 'HCIRCM / BPDCM', 'HCIRCM / FEMURCM',\n",
    "                 'ABCIRCM / BPDCM', 'ABCIRCM / FEMURCM', \n",
    "                 'BPDCM / FEMURCM']\n",
    "for ratio in length_ratios:\n",
    "    df[ratio] = df[ratio.split(' ')[0]] / df[ratio.split(' ')[2]]"
   ]
  },
  {
   "cell_type": "code",
   "execution_count": 8,
   "metadata": {
    "collapsed": false
   },
   "outputs": [
    {
     "data": {
      "text/plain": [
       "['HCIRCM / GAGEDAYS',\n",
       " 'ABCIRCM / GAGEDAYS',\n",
       " 'BPDCM / GAGEDAYS',\n",
       " 'FEMURCM / GAGEDAYS']"
      ]
     },
     "execution_count": 8,
     "metadata": {},
     "output_type": "execute_result"
    }
   ],
   "source": [
    "lenght_time = list()\n",
    "for m in ultrasound:\n",
    "    col_name = '%s / GAGEDAYS' % m\n",
    "    lenght_time.append(col_name)\n",
    "    df[col_name] = df[m] / df['GAGEDAYS']\n",
    "\n",
    "lenght_time"
   ]
  },
  {
   "cell_type": "code",
   "execution_count": 9,
   "metadata": {
    "collapsed": true
   },
   "outputs": [],
   "source": [
    "# no of past pregancies\n",
    "df['past_gest'] = df['PARITY'] - df['GRAVIDA']\n",
    "\n",
    "other_feat = ['past_gest'] "
   ]
  },
  {
   "cell_type": "code",
   "execution_count": 10,
   "metadata": {
    "collapsed": true
   },
   "outputs": [],
   "source": [
    "# common models for sonographic fetal weight estimation use log of the weight\n",
    "df['BWT_40'] = np.log(1 + df['BWT_40'])"
   ]
  },
  {
   "cell_type": "code",
   "execution_count": 11,
   "metadata": {
    "collapsed": false
   },
   "outputs": [
    {
     "name": "stdout",
     "output_type": "stream",
     "text": [
      "Dataframe size: 7928,20\n"
     ]
    }
   ],
   "source": [
    "print('Dataframe size: %s,%s' % (df.shape[0],df.shape[1]))"
   ]
  },
  {
   "cell_type": "code",
   "execution_count": 12,
   "metadata": {
    "collapsed": true
   },
   "outputs": [],
   "source": [
    "# sklearn imports\n",
    "from sklearn.model_selection import train_test_split, KFold, cross_val_score\n",
    "from sklearn.preprocessing import StandardScaler, PolynomialFeatures\n",
    "from sklearn.metrics import mean_absolute_error\n",
    "\n",
    "# xgboost\n",
    "from xgboost import XGBRegressor\n",
    "\n",
    "# custom 'library'\n",
    "from aux_fun import plot_learning_curve, plot_validation_curve"
   ]
  },
  {
   "cell_type": "markdown",
   "metadata": {},
   "source": [
    "### Split train/test data"
   ]
  },
  {
   "cell_type": "code",
   "execution_count": 13,
   "metadata": {
    "collapsed": true
   },
   "outputs": [],
   "source": [
    "pf = PolynomialFeatures(degree=4)\n",
    "X_poly_ultrasounds = pf.fit_transform(df[ultrasound].values)\n",
    "X_aux_measure = df[aux_measure].values\n",
    "X_lenght_ratios = df[length_ratios].values\n",
    "X_lenght_time = df[lenght_time].values\n",
    "X_other_feat = df[other_feat].values\n",
    "\n",
    "X = np.concatenate((X_poly_ultrasounds,X_aux_measure,X_lenght_ratios,X_lenght_time,X_other_feat),axis=1)\n",
    "\n",
    "Y = df[target].values"
   ]
  },
  {
   "cell_type": "code",
   "execution_count": 14,
   "metadata": {
    "collapsed": false
   },
   "outputs": [],
   "source": [
    "poly_feat_names = [e.replace('x0','HCIRCM').replace('x1','ABCIRCM').replace('x2','BPDCM').replace('x3','FEMURCM')\n",
    "              for e in pf.get_feature_names()]"
   ]
  },
  {
   "cell_type": "code",
   "execution_count": 15,
   "metadata": {
    "collapsed": false
   },
   "outputs": [],
   "source": [
    "all_feat_names = pd.Series(poly_feat_names + aux_measure + length_ratios + lenght_time + other_feat)"
   ]
  },
  {
   "cell_type": "code",
   "execution_count": 16,
   "metadata": {
    "collapsed": true
   },
   "outputs": [],
   "source": [
    "# train-test split\n",
    "x_train, x_test, y_train, y_test = train_test_split(X, Y, test_size=0.2, random_state=0)"
   ]
  },
  {
   "cell_type": "markdown",
   "metadata": {},
   "source": [
    "### Define model pipeline"
   ]
  },
  {
   "cell_type": "code",
   "execution_count": 17,
   "metadata": {
    "collapsed": true
   },
   "outputs": [],
   "source": [
    "# worked quite well: (max_depth=20,learning_rate=0.03,n_estimators=1000,subsample=0.9)\n",
    "xgb = XGBRegressor(max_depth=3,learning_rate=0.1,n_estimators=100,subsample=0.9)"
   ]
  },
  {
   "cell_type": "markdown",
   "metadata": {},
   "source": [
    "#### CV strategy"
   ]
  },
  {
   "cell_type": "code",
   "execution_count": 18,
   "metadata": {
    "collapsed": true
   },
   "outputs": [],
   "source": [
    "kf = KFold(n_splits=5)"
   ]
  },
  {
   "cell_type": "markdown",
   "metadata": {},
   "source": [
    "CV using all features:"
   ]
  },
  {
   "cell_type": "code",
   "execution_count": 19,
   "metadata": {
    "collapsed": false
   },
   "outputs": [
    {
     "name": "stdout",
     "output_type": "stream",
     "text": [
      "Score: 0.0537 +- 0.0027\n"
     ]
    }
   ],
   "source": [
    "scores = list()\n",
    "\n",
    "for train_k, test_k in kf.split(x_train):\n",
    "    xgb.fit(x_train[train_k],y_train[train_k])\n",
    "    scores.append(mean_absolute_error(y_train[test_k], xgb.predict(x_train[test_k])))\n",
    "    \n",
    "base_cv_score = np.mean(scores)\n",
    "\n",
    "print('Score: %0.4f +- %0.4f' % (np.mean(scores),2*np.std(scores)))"
   ]
  },
  {
   "cell_type": "markdown",
   "metadata": {},
   "source": [
    "Iterate through all features, calculating the disminution of error of leaving that one out, wrt to the base set of features:"
   ]
  },
  {
   "cell_type": "code",
   "execution_count": 20,
   "metadata": {
    "collapsed": false
   },
   "outputs": [
    {
     "name": "stdout",
     "output_type": "stream",
     "text": [
      "step 10 done\n",
      "step 20 done\n",
      "step 30 done\n",
      "step 40 done\n",
      "step 50 done\n",
      "step 60 done\n",
      "step 70 done\n",
      "step 80 done\n",
      "All done!\n"
     ]
    }
   ],
   "source": [
    "score_after_deleting = list()\n",
    "for ix, feat in all_feat_names.iteritems():\n",
    "    score_i = cross_val_score(xgb, X=np.delete(x_train,[ix],axis=1), y=y_train, scoring='mean_absolute_error', cv=kf, n_jobs=-1)\n",
    "    score_after_deleting.append(score_i)\n",
    "    if (ix + 1) % 10 == 0:\n",
    "        print('step %i done' % (ix + 1))\n",
    "print('All done!')"
   ]
  },
  {
   "cell_type": "markdown",
   "metadata": {},
   "source": [
    "Order features (features with negative error increments are more important):"
   ]
  },
  {
   "cell_type": "code",
   "execution_count": 21,
   "metadata": {
    "collapsed": false
   },
   "outputs": [
    {
     "data": {
      "text/html": [
       "<div>\n",
       "<table border=\"1\" class=\"dataframe\">\n",
       "  <thead>\n",
       "    <tr style=\"text-align: right;\">\n",
       "      <th></th>\n",
       "      <th>names</th>\n",
       "      <th>deltas</th>\n",
       "    </tr>\n",
       "  </thead>\n",
       "  <tbody>\n",
       "    <tr>\n",
       "      <th>76</th>\n",
       "      <td>HCIRCM / FEMURCM</td>\n",
       "      <td>-0.000128</td>\n",
       "    </tr>\n",
       "    <tr>\n",
       "      <th>43</th>\n",
       "      <td>HCIRCM^2 BPDCM FEMURCM</td>\n",
       "      <td>-0.000102</td>\n",
       "    </tr>\n",
       "    <tr>\n",
       "      <th>47</th>\n",
       "      <td>HCIRCM ABCIRCM^2 FEMURCM</td>\n",
       "      <td>-0.000095</td>\n",
       "    </tr>\n",
       "    <tr>\n",
       "      <th>70</th>\n",
       "      <td>GAGEDAYS</td>\n",
       "      <td>-0.000091</td>\n",
       "    </tr>\n",
       "    <tr>\n",
       "      <th>53</th>\n",
       "      <td>HCIRCM BPDCM FEMURCM^2</td>\n",
       "      <td>-0.000084</td>\n",
       "    </tr>\n",
       "    <tr>\n",
       "      <th>84</th>\n",
       "      <td>past_gest</td>\n",
       "      <td>-0.000083</td>\n",
       "    </tr>\n",
       "    <tr>\n",
       "      <th>26</th>\n",
       "      <td>ABCIRCM^2 BPDCM</td>\n",
       "      <td>-0.000081</td>\n",
       "    </tr>\n",
       "    <tr>\n",
       "      <th>66</th>\n",
       "      <td>BPDCM^3 FEMURCM</td>\n",
       "      <td>-0.000079</td>\n",
       "    </tr>\n",
       "    <tr>\n",
       "      <th>32</th>\n",
       "      <td>BPDCM^2 FEMURCM</td>\n",
       "      <td>-0.000072</td>\n",
       "    </tr>\n",
       "    <tr>\n",
       "      <th>57</th>\n",
       "      <td>ABCIRCM^3 FEMURCM</td>\n",
       "      <td>-0.000071</td>\n",
       "    </tr>\n",
       "  </tbody>\n",
       "</table>\n",
       "</div>"
      ],
      "text/plain": [
       "                       names    deltas\n",
       "76          HCIRCM / FEMURCM -0.000128\n",
       "43    HCIRCM^2 BPDCM FEMURCM -0.000102\n",
       "47  HCIRCM ABCIRCM^2 FEMURCM -0.000095\n",
       "70                  GAGEDAYS -0.000091\n",
       "53    HCIRCM BPDCM FEMURCM^2 -0.000084\n",
       "84                 past_gest -0.000083\n",
       "26           ABCIRCM^2 BPDCM -0.000081\n",
       "66           BPDCM^3 FEMURCM -0.000079\n",
       "32           BPDCM^2 FEMURCM -0.000072\n",
       "57         ABCIRCM^3 FEMURCM -0.000071"
      ]
     },
     "execution_count": 21,
     "metadata": {},
     "output_type": "execute_result"
    }
   ],
   "source": [
    "feature_deltas = [np.abs(score.mean()) - base_cv_score for score in score_after_deleting]\n",
    "\n",
    "sorted_feat_importances = \\\n",
    "pd.DataFrame({'names': all_feat_names, 'deltas': feature_deltas})[['names','deltas']].sort_values(by='deltas')\n",
    "\n",
    "sorted_feat_importances.head(10)"
   ]
  },
  {
   "cell_type": "code",
   "execution_count": 22,
   "metadata": {
    "collapsed": false
   },
   "outputs": [],
   "source": [
    "sorted_feat_importances.to_excel('feature_importances.xlsx')\n",
    "most_important_feat_indices = sorted_feat_importances.iloc[:30].index.tolist()"
   ]
  },
  {
   "cell_type": "code",
   "execution_count": 23,
   "metadata": {
    "collapsed": false
   },
   "outputs": [],
   "source": [
    "x_train_reduced = x_train[:,most_important_feat_indices]\n",
    "x_test_reduced = x_test[:,most_important_feat_indices]"
   ]
  },
  {
   "cell_type": "code",
   "execution_count": 24,
   "metadata": {
    "collapsed": false
   },
   "outputs": [
    {
     "name": "stdout",
     "output_type": "stream",
     "text": [
      "Score: 0.0553 +- 0.0023\n"
     ]
    }
   ],
   "source": [
    "final_cv_score = cross_val_score(xgb, X=x_train_reduced, y=y_train, scoring='mean_absolute_error',\n",
    "                                n_jobs=-1, cv=kf)\n",
    "\n",
    "print('Score: %0.4f +- %0.4f' % (np.abs(final_cv_score.mean()),2*final_cv_score.std()))"
   ]
  },
  {
   "cell_type": "markdown",
   "metadata": {},
   "source": [
    "#### Fit whole train with best hyperparameter"
   ]
  },
  {
   "cell_type": "code",
   "execution_count": 25,
   "metadata": {
    "collapsed": false
   },
   "outputs": [
    {
     "data": {
      "text/plain": [
       "XGBRegressor(base_score=0.5, colsample_bylevel=1, colsample_bytree=1, gamma=0,\n",
       "       learning_rate=0.1, max_delta_step=0, max_depth=3,\n",
       "       min_child_weight=1, missing=None, n_estimators=100, nthread=-1,\n",
       "       objective='reg:linear', reg_alpha=0, reg_lambda=1,\n",
       "       scale_pos_weight=1, seed=0, silent=True, subsample=0.9)"
      ]
     },
     "execution_count": 25,
     "metadata": {},
     "output_type": "execute_result"
    }
   ],
   "source": [
    "xgb.fit(x_train_reduced,y_train)"
   ]
  },
  {
   "cell_type": "code",
   "execution_count": 26,
   "metadata": {
    "collapsed": false
   },
   "outputs": [
    {
     "name": "stdout",
     "output_type": "stream",
     "text": [
      "Test mean abs error:  0.0529686669208\n"
     ]
    }
   ],
   "source": [
    "print('Test mean abs error: ', mean_absolute_error(y_test, xgb.predict(x_test_reduced)))"
   ]
  },
  {
   "cell_type": "markdown",
   "metadata": {},
   "source": [
    "## Model assessment"
   ]
  },
  {
   "cell_type": "code",
   "execution_count": 27,
   "metadata": {
    "collapsed": false
   },
   "outputs": [
    {
     "name": "stdout",
     "output_type": "stream",
     "text": [
      "Mean absolute error: 0.2261\n",
      "Mean relative error: 0.0695\n"
     ]
    }
   ],
   "source": [
    "# Compute true errors\n",
    "w_true = np.exp(y_test) - 1\n",
    "w_pred = np.exp(xgb.predict(x_test_reduced)) - 1\n",
    "abs_error = np.absolute(w_true - w_pred)\n",
    "mean_abs_error = abs_error.mean()\n",
    "pct_error = abs_error / w_true\n",
    "\n",
    "# true test set errors\n",
    "print('Mean absolute error: %0.4f' % mean_abs_error)\n",
    "print('Mean relative error: %0.4f' % pct_error.mean())"
   ]
  },
  {
   "cell_type": "markdown",
   "metadata": {},
   "source": [
    "#### Feature importances"
   ]
  },
  {
   "cell_type": "code",
   "execution_count": 28,
   "metadata": {
    "collapsed": false
   },
   "outputs": [
    {
     "data": {
      "text/plain": [
       "299.13517141342163"
      ]
     },
     "execution_count": 28,
     "metadata": {},
     "output_type": "execute_result"
    }
   ],
   "source": [
    "time.time() - start"
   ]
  }
 ],
 "metadata": {
  "anaconda-cloud": {},
  "kernelspec": {
   "display_name": "Python [default]",
   "language": "python",
   "name": "python3"
  },
  "language_info": {
   "codemirror_mode": {
    "name": "ipython",
    "version": 3
   },
   "file_extension": ".py",
   "mimetype": "text/x-python",
   "name": "python",
   "nbconvert_exporter": "python",
   "pygments_lexer": "ipython3",
   "version": "3.5.2"
  }
 },
 "nbformat": 4,
 "nbformat_minor": 0
}
