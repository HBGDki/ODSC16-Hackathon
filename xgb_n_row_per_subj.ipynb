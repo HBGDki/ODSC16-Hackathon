{
 "cells": [
  {
   "cell_type": "code",
   "execution_count": 1,
   "metadata": {
    "collapsed": true
   },
   "outputs": [],
   "source": [
    "import matplotlib.pyplot as plt\n",
    "import matplotlib\n",
    "import numpy as np\n",
    "import pandas as pd\n",
    "%matplotlib inline\n",
    "import seaborn.apionly as sns\n",
    "\n",
    "# ignore pandas warnings\n",
    "import warnings\n",
    "warnings.simplefilter('ignore')\n",
    "\n",
    "import time\n",
    "start = time.time()"
   ]
  },
  {
   "cell_type": "code",
   "execution_count": 2,
   "metadata": {
    "collapsed": true
   },
   "outputs": [],
   "source": [
    "# load data\n",
    "data = pd.read_csv('training_ultrasound.csv')\n",
    "\n",
    "# remove agedays > 0 ( we just only focus pre-birth measurements)\n",
    "data = data[data['AGEDAYS']<0]\n",
    "\n",
    "# drop rows with missing data in any of the 5 main columns\n",
    "ultrasound = ['HCIRCM', 'ABCIRCM', 'BPDCM', 'FEMURCM']\n",
    "target = 'BWT_40'\n",
    "data.dropna(subset=ultrasound+[target], inplace=True)\n",
    "\n",
    "# correct faulty data\n",
    "data.loc[data['STUDYID']==2, 'PARITY'] = data.loc[data['STUDYID']==2, 'PARITY'] + 1"
   ]
  },
  {
   "cell_type": "code",
   "execution_count": 3,
   "metadata": {
    "collapsed": false
   },
   "outputs": [],
   "source": [
    "data = data.drop_duplicates(subset=(ultrasound+['SUBJID']))"
   ]
  },
  {
   "cell_type": "markdown",
   "metadata": {},
   "source": [
    "## Model"
   ]
  },
  {
   "cell_type": "code",
   "execution_count": 4,
   "metadata": {
    "collapsed": false
   },
   "outputs": [],
   "source": [
    "# select basic vars\n",
    "df = data[['SUBJID'] + ultrasound + ['GAGEDAYS', 'SEXN', 'PARITY', 'GRAVIDA'] + [target]]"
   ]
  },
  {
   "cell_type": "code",
   "execution_count": 5,
   "metadata": {
    "collapsed": false
   },
   "outputs": [
    {
     "data": {
      "text/plain": [
       "SUBJID        0\n",
       "HCIRCM        0\n",
       "ABCIRCM       0\n",
       "BPDCM         0\n",
       "FEMURCM       0\n",
       "GAGEDAYS      0\n",
       "SEXN          0\n",
       "PARITY      101\n",
       "GRAVIDA     101\n",
       "BWT_40        0\n",
       "dtype: int64"
      ]
     },
     "execution_count": 5,
     "metadata": {},
     "output_type": "execute_result"
    }
   ],
   "source": [
    "df.isnull().sum()"
   ]
  },
  {
   "cell_type": "code",
   "execution_count": 6,
   "metadata": {
    "collapsed": true
   },
   "outputs": [],
   "source": [
    "# there is missing data for parity and gravida: this happens for first pregnancy --> fill with 1s\n",
    "df.fillna(1, inplace=True)\n",
    "\n",
    "# replace sex values to 0 and 1\n",
    "df['SEXN'] = df['SEXN'].replace([1,2], [0,1])"
   ]
  },
  {
   "cell_type": "markdown",
   "metadata": {},
   "source": [
    "Generate a DF with several rows per baby. Each row represents the current measurement together to the previous (is there is not a previous, filled with NA)"
   ]
  },
  {
   "cell_type": "code",
   "execution_count": 7,
   "metadata": {
    "collapsed": true
   },
   "outputs": [],
   "source": [
    "vars_previous = ['GAGEDAYS'] + ultrasound"
   ]
  },
  {
   "cell_type": "code",
   "execution_count": 8,
   "metadata": {
    "collapsed": false
   },
   "outputs": [],
   "source": [
    "df = df.sort_values(by=['SUBJID','GAGEDAYS'], ascending=[True,True])"
   ]
  },
  {
   "cell_type": "code",
   "execution_count": 9,
   "metadata": {
    "collapsed": false
   },
   "outputs": [],
   "source": [
    "shifted_df = df[['SUBJID'] + ultrasound + ['GAGEDAYS']].shift(1)\n",
    "shifted_df.columns = shifted_df.columns + '_prev'"
   ]
  },
  {
   "cell_type": "code",
   "execution_count": 10,
   "metadata": {
    "collapsed": false
   },
   "outputs": [],
   "source": [
    "shifted_df['SUBJID'] = df['SUBJID']\n",
    "shifted_df = shifted_df[shifted_df['SUBJID'] == shifted_df['SUBJID_prev']].drop(['SUBJID','SUBJID_prev'], axis=1)"
   ]
  },
  {
   "cell_type": "code",
   "execution_count": 11,
   "metadata": {
    "collapsed": false
   },
   "outputs": [],
   "source": [
    "df_m = df.merge(shifted_df,how='left',left_index=True,right_index=True)"
   ]
  },
  {
   "cell_type": "code",
   "execution_count": 12,
   "metadata": {
    "collapsed": false
   },
   "outputs": [
    {
     "data": {
      "text/html": [
       "<div>\n",
       "<table border=\"1\" class=\"dataframe\">\n",
       "  <thead>\n",
       "    <tr style=\"text-align: right;\">\n",
       "      <th></th>\n",
       "      <th>SUBJID</th>\n",
       "      <th>HCIRCM</th>\n",
       "      <th>ABCIRCM</th>\n",
       "      <th>BPDCM</th>\n",
       "      <th>FEMURCM</th>\n",
       "      <th>GAGEDAYS</th>\n",
       "      <th>SEXN</th>\n",
       "      <th>PARITY</th>\n",
       "      <th>GRAVIDA</th>\n",
       "      <th>BWT_40</th>\n",
       "      <th>HCIRCM_prev</th>\n",
       "      <th>ABCIRCM_prev</th>\n",
       "      <th>BPDCM_prev</th>\n",
       "      <th>FEMURCM_prev</th>\n",
       "      <th>GAGEDAYS_prev</th>\n",
       "    </tr>\n",
       "  </thead>\n",
       "  <tbody>\n",
       "    <tr>\n",
       "      <th>0</th>\n",
       "      <td>1002</td>\n",
       "      <td>33.4</td>\n",
       "      <td>32.5</td>\n",
       "      <td>9.1</td>\n",
       "      <td>7.3</td>\n",
       "      <td>255</td>\n",
       "      <td>1</td>\n",
       "      <td>1.0</td>\n",
       "      <td>1.0</td>\n",
       "      <td>3.614882</td>\n",
       "      <td>NaN</td>\n",
       "      <td>NaN</td>\n",
       "      <td>NaN</td>\n",
       "      <td>NaN</td>\n",
       "      <td>NaN</td>\n",
       "    </tr>\n",
       "    <tr>\n",
       "      <th>3</th>\n",
       "      <td>1003</td>\n",
       "      <td>29.2</td>\n",
       "      <td>25.6</td>\n",
       "      <td>8.2</td>\n",
       "      <td>6.3</td>\n",
       "      <td>223</td>\n",
       "      <td>0</td>\n",
       "      <td>1.0</td>\n",
       "      <td>1.0</td>\n",
       "      <td>3.100000</td>\n",
       "      <td>NaN</td>\n",
       "      <td>NaN</td>\n",
       "      <td>NaN</td>\n",
       "      <td>NaN</td>\n",
       "      <td>NaN</td>\n",
       "    </tr>\n",
       "    <tr>\n",
       "      <th>5</th>\n",
       "      <td>1003</td>\n",
       "      <td>31.0</td>\n",
       "      <td>30.2</td>\n",
       "      <td>9.1</td>\n",
       "      <td>7.2</td>\n",
       "      <td>263</td>\n",
       "      <td>0</td>\n",
       "      <td>1.0</td>\n",
       "      <td>1.0</td>\n",
       "      <td>3.100000</td>\n",
       "      <td>29.2</td>\n",
       "      <td>25.6</td>\n",
       "      <td>8.2</td>\n",
       "      <td>6.3</td>\n",
       "      <td>223.0</td>\n",
       "    </tr>\n",
       "    <tr>\n",
       "      <th>12</th>\n",
       "      <td>1005</td>\n",
       "      <td>21.9</td>\n",
       "      <td>18.7</td>\n",
       "      <td>5.9</td>\n",
       "      <td>4.1</td>\n",
       "      <td>169</td>\n",
       "      <td>0</td>\n",
       "      <td>1.0</td>\n",
       "      <td>1.0</td>\n",
       "      <td>2.988224</td>\n",
       "      <td>NaN</td>\n",
       "      <td>NaN</td>\n",
       "      <td>NaN</td>\n",
       "      <td>NaN</td>\n",
       "      <td>NaN</td>\n",
       "    </tr>\n",
       "    <tr>\n",
       "      <th>13</th>\n",
       "      <td>1005</td>\n",
       "      <td>27.9</td>\n",
       "      <td>25.7</td>\n",
       "      <td>7.9</td>\n",
       "      <td>5.5</td>\n",
       "      <td>222</td>\n",
       "      <td>0</td>\n",
       "      <td>1.0</td>\n",
       "      <td>1.0</td>\n",
       "      <td>2.988224</td>\n",
       "      <td>21.9</td>\n",
       "      <td>18.7</td>\n",
       "      <td>5.9</td>\n",
       "      <td>4.1</td>\n",
       "      <td>169.0</td>\n",
       "    </tr>\n",
       "    <tr>\n",
       "      <th>14</th>\n",
       "      <td>1005</td>\n",
       "      <td>32.2</td>\n",
       "      <td>30.7</td>\n",
       "      <td>8.7</td>\n",
       "      <td>6.5</td>\n",
       "      <td>264</td>\n",
       "      <td>0</td>\n",
       "      <td>1.0</td>\n",
       "      <td>1.0</td>\n",
       "      <td>2.988224</td>\n",
       "      <td>27.9</td>\n",
       "      <td>25.7</td>\n",
       "      <td>7.9</td>\n",
       "      <td>5.5</td>\n",
       "      <td>222.0</td>\n",
       "    </tr>\n",
       "    <tr>\n",
       "      <th>17</th>\n",
       "      <td>1006</td>\n",
       "      <td>29.6</td>\n",
       "      <td>26.2</td>\n",
       "      <td>8.1</td>\n",
       "      <td>6.2</td>\n",
       "      <td>222</td>\n",
       "      <td>0</td>\n",
       "      <td>1.0</td>\n",
       "      <td>1.0</td>\n",
       "      <td>3.182781</td>\n",
       "      <td>NaN</td>\n",
       "      <td>NaN</td>\n",
       "      <td>NaN</td>\n",
       "      <td>NaN</td>\n",
       "      <td>NaN</td>\n",
       "    </tr>\n",
       "    <tr>\n",
       "      <th>18</th>\n",
       "      <td>1006</td>\n",
       "      <td>32.2</td>\n",
       "      <td>30.3</td>\n",
       "      <td>9.2</td>\n",
       "      <td>7.0</td>\n",
       "      <td>266</td>\n",
       "      <td>0</td>\n",
       "      <td>1.0</td>\n",
       "      <td>1.0</td>\n",
       "      <td>3.182781</td>\n",
       "      <td>29.6</td>\n",
       "      <td>26.2</td>\n",
       "      <td>8.1</td>\n",
       "      <td>6.2</td>\n",
       "      <td>222.0</td>\n",
       "    </tr>\n",
       "    <tr>\n",
       "      <th>21</th>\n",
       "      <td>1009</td>\n",
       "      <td>20.6</td>\n",
       "      <td>17.4</td>\n",
       "      <td>5.5</td>\n",
       "      <td>3.9</td>\n",
       "      <td>168</td>\n",
       "      <td>1</td>\n",
       "      <td>1.0</td>\n",
       "      <td>1.0</td>\n",
       "      <td>3.052206</td>\n",
       "      <td>NaN</td>\n",
       "      <td>NaN</td>\n",
       "      <td>NaN</td>\n",
       "      <td>NaN</td>\n",
       "      <td>NaN</td>\n",
       "    </tr>\n",
       "    <tr>\n",
       "      <th>22</th>\n",
       "      <td>1009</td>\n",
       "      <td>28.8</td>\n",
       "      <td>27.2</td>\n",
       "      <td>7.9</td>\n",
       "      <td>6.1</td>\n",
       "      <td>231</td>\n",
       "      <td>1</td>\n",
       "      <td>1.0</td>\n",
       "      <td>1.0</td>\n",
       "      <td>3.052206</td>\n",
       "      <td>20.6</td>\n",
       "      <td>17.4</td>\n",
       "      <td>5.5</td>\n",
       "      <td>3.9</td>\n",
       "      <td>168.0</td>\n",
       "    </tr>\n",
       "  </tbody>\n",
       "</table>\n",
       "</div>"
      ],
      "text/plain": [
       "    SUBJID  HCIRCM  ABCIRCM  BPDCM  FEMURCM  GAGEDAYS  SEXN  PARITY  GRAVIDA  \\\n",
       "0     1002    33.4     32.5    9.1      7.3       255     1     1.0      1.0   \n",
       "3     1003    29.2     25.6    8.2      6.3       223     0     1.0      1.0   \n",
       "5     1003    31.0     30.2    9.1      7.2       263     0     1.0      1.0   \n",
       "12    1005    21.9     18.7    5.9      4.1       169     0     1.0      1.0   \n",
       "13    1005    27.9     25.7    7.9      5.5       222     0     1.0      1.0   \n",
       "14    1005    32.2     30.7    8.7      6.5       264     0     1.0      1.0   \n",
       "17    1006    29.6     26.2    8.1      6.2       222     0     1.0      1.0   \n",
       "18    1006    32.2     30.3    9.2      7.0       266     0     1.0      1.0   \n",
       "21    1009    20.6     17.4    5.5      3.9       168     1     1.0      1.0   \n",
       "22    1009    28.8     27.2    7.9      6.1       231     1     1.0      1.0   \n",
       "\n",
       "      BWT_40  HCIRCM_prev  ABCIRCM_prev  BPDCM_prev  FEMURCM_prev  \\\n",
       "0   3.614882          NaN           NaN         NaN           NaN   \n",
       "3   3.100000          NaN           NaN         NaN           NaN   \n",
       "5   3.100000         29.2          25.6         8.2           6.3   \n",
       "12  2.988224          NaN           NaN         NaN           NaN   \n",
       "13  2.988224         21.9          18.7         5.9           4.1   \n",
       "14  2.988224         27.9          25.7         7.9           5.5   \n",
       "17  3.182781          NaN           NaN         NaN           NaN   \n",
       "18  3.182781         29.6          26.2         8.1           6.2   \n",
       "21  3.052206          NaN           NaN         NaN           NaN   \n",
       "22  3.052206         20.6          17.4         5.5           3.9   \n",
       "\n",
       "    GAGEDAYS_prev  \n",
       "0             NaN  \n",
       "3             NaN  \n",
       "5           223.0  \n",
       "12            NaN  \n",
       "13          169.0  \n",
       "14          222.0  \n",
       "17            NaN  \n",
       "18          222.0  \n",
       "21            NaN  \n",
       "22          168.0  "
      ]
     },
     "execution_count": 12,
     "metadata": {},
     "output_type": "execute_result"
    }
   ],
   "source": [
    "df_m = df_m.ix[:,:]\n",
    "df_m.head(10)"
   ]
  },
  {
   "cell_type": "raw",
   "metadata": {},
   "source": [
    "df_m.merge(df_m.groupby('SUBJID')[['BWT_40']].count(), how='left', left_on='SUBJID', right_index=True)"
   ]
  },
  {
   "cell_type": "markdown",
   "metadata": {},
   "source": [
    "### Split train/test data"
   ]
  },
  {
   "cell_type": "code",
   "execution_count": 13,
   "metadata": {
    "collapsed": true
   },
   "outputs": [],
   "source": [
    "# sklearn imports\n",
    "from sklearn.model_selection import train_test_split, KFold, GroupKFold, cross_val_score, RandomizedSearchCV\n",
    "from sklearn.metrics import mean_absolute_error\n",
    "from aux_fun import *"
   ]
  },
  {
   "cell_type": "raw",
   "metadata": {
    "collapsed": true
   },
   "source": [
    "# df to np arrays\n",
    "X = df_m.drop(target,axis=1).values\n",
    "\n",
    "Y = df_m[target].values\n",
    "\n",
    "# train-test split\n",
    "x_train, x_test, y_train, y_test = train_test_split(X, Y, test_size=0.2, random_state=0)\n",
    "\n",
    "groups=x_train[:,0]\n",
    "x_train = x_train[:,1:]\n",
    "x_test = x_test[:,1:]"
   ]
  },
  {
   "cell_type": "code",
   "execution_count": 14,
   "metadata": {
    "collapsed": true
   },
   "outputs": [],
   "source": [
    "gkf = GroupKFold(n_splits=5)"
   ]
  },
  {
   "cell_type": "code",
   "execution_count": 15,
   "metadata": {
    "collapsed": false
   },
   "outputs": [],
   "source": [
    "# df to np arrays\n",
    "X = df_m.drop(target,axis=1).values\n",
    "groups_for_train_test_split = X[:,0]\n",
    "\n",
    "Y = df_m[target].values\n",
    "\n",
    "# train-test split\n",
    "train_idx, test_idx = list(gkf.split(X, Y, groups=groups_for_train_test_split))[0]\n",
    "x_train, y_train = X[train_idx], Y[train_idx]\n",
    "x_test, y_test = X[test_idx], Y[test_idx]\n",
    "\n",
    "groups_for_cv = x_train[:,0]\n",
    "x_train = x_train[:,1:]\n",
    "x_test = x_test[:,1:]"
   ]
  },
  {
   "cell_type": "markdown",
   "metadata": {},
   "source": [
    "### CV strategy"
   ]
  },
  {
   "cell_type": "code",
   "execution_count": 16,
   "metadata": {
    "collapsed": false
   },
   "outputs": [],
   "source": [
    "gkf_cv = list(gkf.split(x_train,y_train,groups_for_cv))"
   ]
  },
  {
   "cell_type": "markdown",
   "metadata": {},
   "source": [
    "# XGBoost"
   ]
  },
  {
   "cell_type": "code",
   "execution_count": 17,
   "metadata": {
    "collapsed": true
   },
   "outputs": [],
   "source": [
    "from xgboost import XGBRegressor\n",
    "xgb = XGBRegressor()"
   ]
  },
  {
   "cell_type": "code",
   "execution_count": 18,
   "metadata": {
    "collapsed": true
   },
   "outputs": [],
   "source": [
    "params_grid = {\n",
    "    'max_depth': np.arange(1,6),\n",
    "    'subsample': np.arange(0.7,1.0,0.1),\n",
    "    'learning_rate': np.arange(0.02,0.1,0.01),\n",
    "    'n_estimators': np.arange(50,1000,200)\n",
    "}"
   ]
  },
  {
   "cell_type": "code",
   "execution_count": 19,
   "metadata": {
    "collapsed": false
   },
   "outputs": [
    {
     "data": {
      "text/plain": [
       "RandomizedSearchCV(cv=[(array([   0,    1, ..., 5470, 5471]), array([   7,    8, ..., 5460, 5461])), (array([   0,    1, ..., 5470, 5471]), array([   2,    3, ..., 5404, 5405])), (array([   0,    1, ..., 5463, 5464]), array([   5,    6, ..., 5470, 5471])), (array([   2,    3, ..., 5470, 5471]), array([   0,    1, ..., 5463, 5464])), (array([   0,    1, ..., 5470, 5471]), array([  41,   42, ..., 5437, 5438]))],\n",
       "          error_score='raise',\n",
       "          estimator=XGBRegressor(base_score=0.5, colsample_bylevel=1, colsample_bytree=1, gamma=0,\n",
       "       learning_rate=0.1, max_delta_step=0, max_depth=3,\n",
       "       min_child_weight=1, missing=None, n_estimators=100, nthread=-1,\n",
       "       objective='reg:linear', reg_alpha=0, reg_lambda=1,\n",
       "       scale_pos_weight=1, seed=0, silent=True, subsample=1),\n",
       "          fit_params={}, iid=True, n_iter=50, n_jobs=-1,\n",
       "          param_distributions={'max_depth': array([1, 2, 3, 4, 5]), 'subsample': array([ 0.7,  0.8,  0.9,  1. ]), 'n_estimators': array([ 50, 250, 450, 650, 850]), 'learning_rate': array([ 0.02,  0.03,  0.04,  0.05,  0.06,  0.07,  0.08,  0.09])},\n",
       "          pre_dispatch='2*n_jobs', random_state=0, refit=True,\n",
       "          return_train_score=True, scoring='mean_absolute_error',\n",
       "          verbose=0)"
      ]
     },
     "execution_count": 19,
     "metadata": {},
     "output_type": "execute_result"
    }
   ],
   "source": [
    "random_search = RandomizedSearchCV(xgb, param_distributions=params_grid, n_iter=50, \n",
    "                                   n_jobs=-1, scoring='mean_absolute_error', cv=gkf_cv, random_state=0)\n",
    "\n",
    "random_search.fit(x_train,y_train)"
   ]
  },
  {
   "cell_type": "code",
   "execution_count": 20,
   "metadata": {
    "collapsed": false,
    "scrolled": true
   },
   "outputs": [
    {
     "name": "stdout",
     "output_type": "stream",
     "text": [
      "Model with rank: 1\n",
      "Mean validation score: -0.233493 (std: 0.008069)\n",
      "Parameters: {'max_depth': 4, 'subsample': 0.69999999999999996, 'n_estimators': 650, 'learning_rate': 0.02}\n",
      "\n",
      "Model with rank: 2\n",
      "Mean validation score: -0.233808 (std: 0.008307)\n",
      "Parameters: {'max_depth': 2, 'subsample': 0.79999999999999993, 'n_estimators': 850, 'learning_rate': 0.069999999999999993}\n",
      "\n",
      "Model with rank: 3\n",
      "Mean validation score: -0.233977 (std: 0.009129)\n",
      "Parameters: {'max_depth': 3, 'subsample': 0.69999999999999996, 'n_estimators': 450, 'learning_rate': 0.059999999999999998}\n",
      "\n"
     ]
    }
   ],
   "source": [
    "best_params = random_search.cv_results_['params'][np.flatnonzero(random_search.cv_results_['rank_test_score'] == 1)[0]]\n",
    "report(random_search.cv_results_)"
   ]
  },
  {
   "cell_type": "code",
   "execution_count": 21,
   "metadata": {
    "collapsed": false
   },
   "outputs": [
    {
     "name": "stdout",
     "output_type": "stream",
     "text": [
      "Weight error: 0.2335 +- 0.0161\n"
     ]
    }
   ],
   "source": [
    "scores = list()\n",
    "# evaluate model with best alpha given by CV\n",
    "xgb.set_params(**best_params)\n",
    "for train_k, test_k in gkf_cv:\n",
    "    xgb.fit(x_train[train_k],y_train[train_k])\n",
    "    w_true_k = y_train[test_k]\n",
    "    w_pred_k = xgb.predict(x_train[test_k])\n",
    "    scores.append(mean_absolute_error(w_true_k, w_pred_k))\n",
    "print('Weight error: %0.4f +- %0.4f' % (np.mean(scores),2*np.std(scores)))"
   ]
  },
  {
   "cell_type": "markdown",
   "metadata": {},
   "source": [
    "#### Fit whole train with best hyperparameters"
   ]
  },
  {
   "cell_type": "code",
   "execution_count": 22,
   "metadata": {
    "collapsed": false
   },
   "outputs": [
    {
     "data": {
      "text/plain": [
       "XGBRegressor(base_score=0.5, colsample_bylevel=1, colsample_bytree=1, gamma=0,\n",
       "       learning_rate=0.02, max_delta_step=0, max_depth=4,\n",
       "       min_child_weight=1, missing=None, n_estimators=650, nthread=-1,\n",
       "       objective='reg:linear', reg_alpha=0, reg_lambda=1,\n",
       "       scale_pos_weight=1, seed=0, silent=True,\n",
       "       subsample=0.69999999999999996)"
      ]
     },
     "execution_count": 22,
     "metadata": {},
     "output_type": "execute_result"
    }
   ],
   "source": [
    "xgb.fit(x_train,y_train)"
   ]
  },
  {
   "cell_type": "code",
   "execution_count": 23,
   "metadata": {
    "collapsed": false
   },
   "outputs": [
    {
     "name": "stdout",
     "output_type": "stream",
     "text": [
      "Test mean abs error:  0.231691824807\n",
      "Mean relative error: 0.0717\n"
     ]
    }
   ],
   "source": [
    "w_true = y_test\n",
    "w_pred = xgb.predict(x_test)\n",
    "abs_error = mean_absolute_error(w_true, w_pred)\n",
    "pct_error = abs_error / w_true\n",
    "print('Test mean abs error: ', abs_error)\n",
    "print('Mean relative error: %0.4f' % pct_error.mean())"
   ]
  },
  {
   "cell_type": "markdown",
   "metadata": {},
   "source": [
    "# Plot confidence bins"
   ]
  },
  {
   "cell_type": "code",
   "execution_count": 24,
   "metadata": {
    "collapsed": true
   },
   "outputs": [],
   "source": [
    "pct_error = np.abs(w_true-w_pred)/w_true*100\n",
    "mean_pct_error = pct_error.mean()"
   ]
  },
  {
   "cell_type": "code",
   "execution_count": 25,
   "metadata": {
    "collapsed": false
   },
   "outputs": [
    {
     "data": {
      "image/png": "[encoded data removed]",
      "text/plain": [
       "<matplotlib.figure.Figure at 0x13d90c7d978>"
      ]
     },
     "metadata": {},
     "output_type": "display_data"
    }
   ],
   "source": [
    "t = x_test[:,4]\n",
    "sns.regplot(x=t,y=pct_error, scatter_kws={'alpha':0.1},fit_reg=True, line_kws={'color':'k','label':'linear fit'})\n",
    "plt.ylim(0,50)\n",
    "plt.xlim(t.min(),t.max())\n",
    "plt.xlabel('GAGEDAYS of measurement')\n",
    "plt.ylabel('% error')\n",
    "plt.hlines(mean_pct_error,xmin=0,xmax=350,colors='r',linestyles='dashed',label='mean')\n",
    "plt.ylim(0,30)\n",
    "plt.legend();"
   ]
  },
  {
   "cell_type": "code",
   "execution_count": 26,
   "metadata": {
    "collapsed": true
   },
   "outputs": [],
   "source": [
    "week_bins = np.digitize(x=t, bins=np.arange(0,t.max(),14))\n",
    "\n",
    "pct_error_binned_df = pd.DataFrame(np.concatenate((pct_error.reshape(-1,1),week_bins.reshape(-1,1)),axis=1), \n",
    "                                columns=['y_test','bin'])"
   ]
  },
  {
   "cell_type": "code",
   "execution_count": 27,
   "metadata": {
    "collapsed": false
   },
   "outputs": [
    {
     "data": {
      "text/html": [
       "<div>\n",
       "<table border=\"1\" class=\"dataframe\">\n",
       "  <thead>\n",
       "    <tr style=\"text-align: right;\">\n",
       "      <th></th>\n",
       "      <th>mean</th>\n",
       "      <th>std</th>\n",
       "      <th>count</th>\n",
       "    </tr>\n",
       "    <tr>\n",
       "      <th>bin</th>\n",
       "      <th></th>\n",
       "      <th></th>\n",
       "      <th></th>\n",
       "    </tr>\n",
       "  </thead>\n",
       "  <tbody>\n",
       "    <tr>\n",
       "      <th>4.0</th>\n",
       "      <td>9.394811</td>\n",
       "      <td>3.832309</td>\n",
       "      <td>5</td>\n",
       "    </tr>\n",
       "    <tr>\n",
       "      <th>5.0</th>\n",
       "      <td>6.627305</td>\n",
       "      <td>4.755411</td>\n",
       "      <td>6</td>\n",
       "    </tr>\n",
       "    <tr>\n",
       "      <th>6.0</th>\n",
       "      <td>8.106866</td>\n",
       "      <td>9.293454</td>\n",
       "      <td>13</td>\n",
       "    </tr>\n",
       "    <tr>\n",
       "      <th>7.0</th>\n",
       "      <td>8.343690</td>\n",
       "      <td>6.352550</td>\n",
       "      <td>43</td>\n",
       "    </tr>\n",
       "    <tr>\n",
       "      <th>8.0</th>\n",
       "      <td>7.524795</td>\n",
       "      <td>5.955104</td>\n",
       "      <td>5</td>\n",
       "    </tr>\n",
       "    <tr>\n",
       "      <th>9.0</th>\n",
       "      <td>7.876220</td>\n",
       "      <td>6.131449</td>\n",
       "      <td>8</td>\n",
       "    </tr>\n",
       "    <tr>\n",
       "      <th>10.0</th>\n",
       "      <td>7.507786</td>\n",
       "      <td>4.316970</td>\n",
       "      <td>44</td>\n",
       "    </tr>\n",
       "    <tr>\n",
       "      <th>11.0</th>\n",
       "      <td>7.788171</td>\n",
       "      <td>6.998435</td>\n",
       "      <td>86</td>\n",
       "    </tr>\n",
       "    <tr>\n",
       "      <th>12.0</th>\n",
       "      <td>7.841262</td>\n",
       "      <td>5.800259</td>\n",
       "      <td>107</td>\n",
       "    </tr>\n",
       "    <tr>\n",
       "      <th>13.0</th>\n",
       "      <td>8.712880</td>\n",
       "      <td>6.251346</td>\n",
       "      <td>57</td>\n",
       "    </tr>\n",
       "    <tr>\n",
       "      <th>14.0</th>\n",
       "      <td>7.254860</td>\n",
       "      <td>5.612908</td>\n",
       "      <td>108</td>\n",
       "    </tr>\n",
       "    <tr>\n",
       "      <th>15.0</th>\n",
       "      <td>7.840535</td>\n",
       "      <td>5.826012</td>\n",
       "      <td>64</td>\n",
       "    </tr>\n",
       "    <tr>\n",
       "      <th>16.0</th>\n",
       "      <td>7.782837</td>\n",
       "      <td>5.735122</td>\n",
       "      <td>140</td>\n",
       "    </tr>\n",
       "    <tr>\n",
       "      <th>17.0</th>\n",
       "      <td>6.581254</td>\n",
       "      <td>5.019385</td>\n",
       "      <td>244</td>\n",
       "    </tr>\n",
       "    <tr>\n",
       "      <th>18.0</th>\n",
       "      <td>7.890507</td>\n",
       "      <td>5.811292</td>\n",
       "      <td>65</td>\n",
       "    </tr>\n",
       "    <tr>\n",
       "      <th>19.0</th>\n",
       "      <td>5.925723</td>\n",
       "      <td>4.163399</td>\n",
       "      <td>222</td>\n",
       "    </tr>\n",
       "    <tr>\n",
       "      <th>20.0</th>\n",
       "      <td>6.157963</td>\n",
       "      <td>4.943695</td>\n",
       "      <td>129</td>\n",
       "    </tr>\n",
       "    <tr>\n",
       "      <th>21.0</th>\n",
       "      <td>5.595834</td>\n",
       "      <td>4.589048</td>\n",
       "      <td>23</td>\n",
       "    </tr>\n",
       "  </tbody>\n",
       "</table>\n",
       "</div>"
      ],
      "text/plain": [
       "          mean       std  count\n",
       "bin                            \n",
       "4.0   9.394811  3.832309      5\n",
       "5.0   6.627305  4.755411      6\n",
       "6.0   8.106866  9.293454     13\n",
       "7.0   8.343690  6.352550     43\n",
       "8.0   7.524795  5.955104      5\n",
       "9.0   7.876220  6.131449      8\n",
       "10.0  7.507786  4.316970     44\n",
       "11.0  7.788171  6.998435     86\n",
       "12.0  7.841262  5.800259    107\n",
       "13.0  8.712880  6.251346     57\n",
       "14.0  7.254860  5.612908    108\n",
       "15.0  7.840535  5.826012     64\n",
       "16.0  7.782837  5.735122    140\n",
       "17.0  6.581254  5.019385    244\n",
       "18.0  7.890507  5.811292     65\n",
       "19.0  5.925723  4.163399    222\n",
       "20.0  6.157963  4.943695    129\n",
       "21.0  5.595834  4.589048     23"
      ]
     },
     "execution_count": 27,
     "metadata": {},
     "output_type": "execute_result"
    }
   ],
   "source": [
    "pct_error_binned_df = pct_error_binned_df.groupby('bin').agg([np.mean,np.std,'count'])\n",
    "pct_error_binned_df.columns = pct_error_binned_df.columns.droplevel()\n",
    "pct_error_binned_df"
   ]
  },
  {
   "cell_type": "code",
   "execution_count": 28,
   "metadata": {
    "collapsed": true
   },
   "outputs": [],
   "source": [
    "times_sigma = 1\n",
    "pct_error_binned_df['upper'] = pct_error_binned_df['mean'] + times_sigma*pct_error_binned_df['std']\n",
    "pct_error_binned_df['lower'] = pct_error_binned_df['mean'] - times_sigma*pct_error_binned_df['std']\n",
    "pct_error_binned_df['lower'] *= pct_error_binned_df['lower'] > 0"
   ]
  },
  {
   "cell_type": "code",
   "execution_count": 29,
   "metadata": {
    "collapsed": false
   },
   "outputs": [
    {
     "data": {
      "image/png": "[encoded data removed]",
      "text/plain": [
       "<matplotlib.figure.Figure at 0x13d91c9f2e8>"
      ]
     },
     "metadata": {},
     "output_type": "display_data"
    }
   ],
   "source": [
    "reescaled_x = pct_error_binned_df.index*14-7\n",
    "ax = sns.regplot(x=t,y=pct_error, scatter_kws={'alpha':0.1},fit_reg=False)\n",
    "ax.plot(reescaled_x,pct_error_binned_df['mean'],label='mean',lw=2,color='k')\n",
    "ax.fill_between(reescaled_x, pct_error_binned_df['lower'], pct_error_binned_df['upper'], \n",
    "                 facecolor='grey', alpha=0.2, label=r'$\\pm \\sigma$ interval')\n",
    "ax.set_xlim(t.min(),t.max())\n",
    "ax.set_ylim(0,40)\n",
    "ax.set_xlabel('GAGEDAYS of measurement')\n",
    "ax.set_ylabel('% error')\n",
    "ax.set_title('Influence of the time of measurement\\n on the error (out of sample)\\n')\n",
    "ax.hlines(mean_pct_error,xmin=0,xmax=350,colors='r',linestyles='dashed',label='overall mean')\n",
    "plt.legend();"
   ]
  },
  {
   "cell_type": "code",
   "execution_count": 30,
   "metadata": {
    "collapsed": false
   },
   "outputs": [
    {
     "data": {
      "text/plain": [
       "66.28111600875854"
      ]
     },
     "execution_count": 30,
     "metadata": {},
     "output_type": "execute_result"
    }
   ],
   "source": [
    "time.time() - start"
   ]
  },
  {
   "cell_type": "code",
   "execution_count": 31,
   "metadata": {
    "collapsed": false
   },
   "outputs": [
    {
     "name": "stdout",
     "output_type": "stream",
     "text": [
      "Latest execution: 2016-11-28 17:37:58.245181\n"
     ]
    }
   ],
   "source": [
    "print('Latest execution: %s' % pd.datetime.now())"
   ]
  }
 ],
 "metadata": {
  "anaconda-cloud": {},
  "kernelspec": {
   "display_name": "Python [default]",
   "language": "python",
   "name": "python3"
  },
  "language_info": {
   "codemirror_mode": {
    "name": "ipython",
    "version": 3
   },
   "file_extension": ".py",
   "mimetype": "text/x-python",
   "name": "python",
   "nbconvert_exporter": "python",
   "pygments_lexer": "ipython3",
   "version": "3.5.2"
  }
 },
 "nbformat": 4,
 "nbformat_minor": 0
}
